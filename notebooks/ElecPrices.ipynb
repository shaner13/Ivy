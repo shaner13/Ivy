{
 "cells": [
  {
   "cell_type": "code",
   "execution_count": 2,
   "id": "e8472367",
   "metadata": {},
   "outputs": [
    {
     "data": {
      "text/html": [
       "<div>\n",
       "<style scoped>\n",
       "    .dataframe tbody tr th:only-of-type {\n",
       "        vertical-align: middle;\n",
       "    }\n",
       "\n",
       "    .dataframe tbody tr th {\n",
       "        vertical-align: top;\n",
       "    }\n",
       "\n",
       "    .dataframe thead th {\n",
       "        text-align: right;\n",
       "    }\n",
       "</style>\n",
       "<table border=\"1\" class=\"dataframe\">\n",
       "  <thead>\n",
       "    <tr style=\"text-align: right;\">\n",
       "      <th></th>\n",
       "      <th>Price</th>\n",
       "      <th>Demand</th>\n",
       "    </tr>\n",
       "  </thead>\n",
       "  <tbody>\n",
       "    <tr>\n",
       "      <th>0</th>\n",
       "      <td>0.2546</td>\n",
       "      <td>663888.1006</td>\n",
       "    </tr>\n",
       "    <tr>\n",
       "      <th>1</th>\n",
       "      <td>0.2423</td>\n",
       "      <td>783393.6071</td>\n",
       "    </tr>\n",
       "    <tr>\n",
       "      <th>2</th>\n",
       "      <td>0.2539</td>\n",
       "      <td>766042.0470</td>\n",
       "    </tr>\n",
       "    <tr>\n",
       "      <th>3</th>\n",
       "      <td>0.2369</td>\n",
       "      <td>638623.9106</td>\n",
       "    </tr>\n",
       "    <tr>\n",
       "      <th>4</th>\n",
       "      <td>0.2355</td>\n",
       "      <td>635868.3750</td>\n",
       "    </tr>\n",
       "  </tbody>\n",
       "</table>\n",
       "</div>"
      ],
      "text/plain": [
       "    Price       Demand\n",
       "0  0.2546  663888.1006\n",
       "1  0.2423  783393.6071\n",
       "2  0.2539  766042.0470\n",
       "3  0.2369  638623.9106\n",
       "4  0.2355  635868.3750"
      ]
     },
     "execution_count": 2,
     "metadata": {},
     "output_type": "execute_result"
    }
   ],
   "source": [
    "import pandas as pd\n",
    "import numpy as np\n",
    "import matplotlib.pyplot as plt\n",
    "from sklearn import metrics\n",
    "from sklearn.linear_model import LogisticRegression\n",
    "from sklearn.linear_model import LinearRegression\n",
    "from sklearn.preprocessing import normalize\n",
    "from sklearn.model_selection import train_test_split\n",
    "from sklearn import model_selection\n",
    "from sklearn.model_selection import KFold\n",
    "from sklearn.metrics import confusion_matrix, ConfusionMatrixDisplay\n",
    "import dateutil\n",
    "import seaborn as sns\n",
    "import statsmodels.api as sm\n",
    "import pmdarima as pm\n",
    "from random import gauss\n",
    "from random import seed\n",
    "from matplotlib import pyplot\n",
    "from arch import arch_model\n",
    "from statsmodels.tsa.arima_model import ARIMA\n",
    "from sklearn.metrics import mean_absolute_percentage_error\n",
    "import joblib\n",
    "\n",
    "#first load data\n",
    "missing_vals = [' ?', 'n/a', '--', 'na', 'NaN', '', ' ']\n",
    "dataset = pd.read_csv('./data/ElectricityPrices.csv', encoding = 'utf-8-sig', header = 0, na_values = missing_vals)\n",
    "dataset.head()"
   ]
  },
  {
   "cell_type": "code",
   "execution_count": 24,
   "id": "e4aa0ecf",
   "metadata": {},
   "outputs": [
    {
     "data": {
      "text/plain": [
       "array([663888.1006, 783393.6071, 766042.047 , 638623.9106, 635868.375 ,\n",
       "       785239.0638, 731824.6395, 716683.3022, 688577.2921, 711915.7789,\n",
       "       730676.277 , 763239.3216, 691286.0747, 817815.2983, 711320.4982,\n",
       "       769057.8363, 720267.7452, 942751.0101, 755272.1001, 984278.2871,\n",
       "       761292.1415, 956663.4569, 808663.0544, 983019.1684, 816433.0189])"
      ]
     },
     "execution_count": 24,
     "metadata": {},
     "output_type": "execute_result"
    }
   ],
   "source": [
    "dataset.Demand.values"
   ]
  },
  {
   "cell_type": "code",
   "execution_count": 2,
   "id": "2818fed0",
   "metadata": {},
   "outputs": [],
   "source": [
    "# Training data\n",
    "x = dataset['Demand'].values #feature\n",
    "y = dataset['Price'].values #target\n",
    "x = x.reshape(-1, 1)\n",
    "\n",
    "# Train the linear regression model\n",
    "model = LinearRegression().fit(x, y)"
   ]
  },
  {
   "cell_type": "code",
   "execution_count": 31,
   "id": "928b76f5",
   "metadata": {},
   "outputs": [
    {
     "data": {
      "text/plain": [
       "['elecPricesLinRegModel.joblib']"
      ]
     },
     "execution_count": 31,
     "metadata": {},
     "output_type": "execute_result"
    }
   ],
   "source": [
    "joblib_file = \"elecPricesLinRegModel.joblib\"\n",
    "joblib.dump(model, joblib_file)"
   ]
  }
 ],
 "metadata": {
  "kernelspec": {
   "display_name": "Python 3 (ipykernel)",
   "language": "python",
   "name": "python3"
  },
  "language_info": {
   "codemirror_mode": {
    "name": "ipython",
    "version": 3
   },
   "file_extension": ".py",
   "mimetype": "text/x-python",
   "name": "python",
   "nbconvert_exporter": "python",
   "pygments_lexer": "ipython3",
   "version": "3.9.1"
  }
 },
 "nbformat": 4,
 "nbformat_minor": 5
}
